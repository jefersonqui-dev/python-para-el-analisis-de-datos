{
 "cells": [
  {
   "cell_type": "markdown",
   "metadata": {},
   "source": [
    "# Introducción a Variables y Tipos de Datos\n",
    "\n",
    "En este módulo, aprenderás a manejar la entrada y salida en la consola, así como conceptos fundamentales de programación en Python, como variables y tipos de datos. Este conocimiento es esencial para desarrollar programas que no solo muestren información, sino que también interactúen con el usuario.\n",
    "\n",
    "### Escenario: Un programador junior creando sus primeras aplicaciones\n",
    "\n",
    "Imagina que eres un joven cadete espacial en una nave espacial en el futuro. Tu misión es explorar nuevos sistemas solares y desarrollar programas útiles para el personal a bordo.\n",
    "\n",
    "### ¿Qué aprenderás?\n",
    "\n",
    "* Utilizar funciones para manejar la entrada y salida en la consola.\n",
    "* Crear y utilizar variables para almacenar datos.\n",
    "* Distinguir entre diferentes tipos de datos.\n",
    "* Convertir entre tipos de datos cuando sea necesario.\n",
    "\n",
    "### Objetivo principal\n",
    "\n",
    "Utilizar elementos básicos de programación para crear tus primeros programas en Python."
   ]
  },
  {
   "cell_type": "markdown",
   "metadata": {},
   "source": [
    "### Estilos de Nomenclatura de Variables\n",
    "\n",
    "Existen diferentes convenciones para nombrar variables en Python, cada una con su propio uso y contexto. Aquí te presento algunas de las más comunes:\n",
    "\n",
    "- **Snake Case:** Se utiliza principalmente en Python para nombrar variables y funciones. Consiste en escribir todo en minúsculas y separar las palabras con guiones bajos. Ejemplo: `mi_variable`.\n",
    "\n",
    "- **Camel Case:** Se utiliza a menudo en otros lenguajes de programación como Java. La primera palabra está en minúsculas y cada palabra subsiguiente comienza con una letra mayúscula. Ejemplo: `miVariable`.\n",
    "\n",
    "- **Pascal Case:** Similar al Camel Case, pero la primera letra también es mayúscula. Se utiliza comúnmente para nombrar clases. Ejemplo: `MiVariable`.\n",
    "\n",
    "- **Kebab Case:** No es común en Python, ya que los guiones se interpretan como operadores de resta. Se utiliza en otros contextos como nombres de archivos o URLs. Ejemplo: `mi-variable`.\n",
    "\n",
    "Es importante seguir las convenciones de estilo de tu equipo o proyecto para mantener la consistencia en el código.\n"
   ]
  },
  {
   "cell_type": "markdown",
   "metadata": {},
   "source": [
    "## Variables y Tipos de Datos\n",
    "\n",
    "Las variables son fundamentales en cualquier lenguaje de programación, ya que permiten almacenar datos que pueden ser utilizados y manipulados a lo largo del programa. En Python, las variables pueden ser de diferentes tipos, como enteros, flotantes, cadenas de texto, y booleanos.\n",
    "\n",
    "### Declaración de Variables\n",
    "\n",
    "Para declarar una variable en Python, simplemente asigna un valor a un nombre de variable. Aquí tienes algunos ejemplos:\n",
    "\n",
    "```python\n",
    "nombre = 'Amaia'  # cadena de texto\n",
    "edad = 30  # número entero\n",
    "precio = 112.9  # número de punto flotante\n",
    "activo = True  # booleano\n",
    "```\n",
    "\n",
    "### Tipos de Datos\n",
    "\n",
    "Python soporta varios tipos de datos básicos:\n",
    "\n",
    "- **Enteros (int):** Números sin decimales.\n",
    "- **Flotantes (float):** Números con decimales.\n",
    "- **Cadenas de texto (str):** Secuencias de caracteres.\n",
    "- **Booleanos (bool):** Valores de verdad, `True` o `False`.\n",
    "\n",
    "Puedes verificar el tipo de una variable usando la función `type()`:\n",
    "\n",
    "```python\n",
    "x = 5.5\n",
    "print(type(x))  # <class 'float'>\n",
    "```\n",
    "\n",
    "### Buenas Prácticas para Nombres de Variables\n",
    "\n",
    "- Utiliza nombres descriptivos y en minúsculas, separando palabras con guiones bajos: `mi_variable`.\n",
    "- Escribe las constantes en mayúsculas: `MI_CONSTANTE`.\n",
    "- Asegúrate de que los nombres de las variables sean claros y significativos."
   ]
  },
  {
   "cell_type": "code",
   "execution_count": null,
   "metadata": {},
   "outputs": [],
   "source": [
    "# Ejemplo de declaración de variables\n",
    "a = 5\n",
    "b = 3.2\n",
    "nombre = \"Juan\"\n",
    "activo = False\n",
    "\n",
    "print(a, b, nombre, activo)"
   ]
  },
  {
   "cell_type": "markdown",
   "metadata": {},
   "source": [
    "Observa cómo el comando anterior invoca mediante paréntesis. Así es como invocas una función. Si usaras corchetes () en lugar de paréntesis, no funcionaría:print[] \n",
    "\n",
    "### Variables\n",
    "\n",
    "Para avanzar en la programación, debes comprender que estás operando con datos. Como tu programa está trabajando en datos, es posible que deba recordar un cierto valor a lo largo de la ejecución del programa. Para eso, se utilizan variables.\n",
    "\n",
    "En el ejemplo siguiente se realiza un cálculo y se almacena en variables:\n",
    "\n",
    "```\n",
    "    sum = 1 + 2 # 3\n",
    "    product = sum * 2\n",
    "    print(product)\n",
    "```"
   ]
  },
  {
   "cell_type": "markdown",
   "metadata": {},
   "source": [
    "### Conversión de Tipos\n",
    "\n",
    "A veces, necesitarás convertir entre diferentes tipos de datos. Por ejemplo, si deseas concatenar un número con una cadena de texto, debes convertir el número a una cadena:\n",
    "\n",
    "```python\n",
    "edad = 25\n",
    "mensaje = \"Tengo \" + str(edad) + \" años.\"\n",
    "print(mensaje)\n",
    "```\n",
    "\n",
    "También puedes convertir cadenas a números si es necesario:\n",
    "\n",
    "```python\n",
    "numero_str = \"10\"\n",
    "numero_int = int(numero_str)\n",
    "print(numero_int + 5)  # Esto imprimirá 15\n",
    "```\n"
   ]
  },
  {
   "cell_type": "code",
   "execution_count": null,
   "metadata": {},
   "outputs": [],
   "source": [
    "# Tu turno, prueba el fragmento de código anterior\n"
   ]
  },
  {
   "cell_type": "markdown",
   "metadata": {},
   "source": [
    "### Tipos de datos\n",
    "Una variable asume un tipo de datos. En el programa anterior, obtiene el tipo . Pero hay muchos más tipos de datos. Aquí hay algunos que es probable que encuentre: ```sum``` ```int```\n",
    "\n",
    "Tipo | Descripción |Ejemplo \n",
    "-------- | -------- | -------- \n",
    "Tipo numérico | Número, con o sin decimales | ```int, float, complex, no = 3```\n",
    "Tipo de texto | Cadena de caracteres | ```str = \"a literal string\" ```\n",
    "Tipo booleano | Booleano | ```continue = True```\n",
    "\n",
    "Hay tipos más complejos, pero comencemos con estos.\n",
    "\n",
    "Aquí hay un fragmento de código que muestra algunos de los tipos anteriores:\n",
    "\n",
    "```\n",
    "planetas_en_el_sistema_solar = 8 # int, plutón era considerado un planeta pero ya es muy pequeño\n",
    "distancia_a_alfa_centauri = 4.367 # float, años luz\n",
    "puede_despegar = True\n",
    "transbordador_que_aterrizo_en_la_luna = \"Apollo 11\" #string \n",
    "```\n",
    "\n",
    "¿Cómo sabes qué tipo tiene algo? Si ve los datos asignados a la variable como se muestra en el código siguiente, puede detectarlos:\n",
    "\n",
    "```\n",
    "distancia_a_alfa_centauri = 4.367 # Parece un decimal flotante\n",
    "```\n",
    "\n",
    "La otra forma es usar la función:type()\n",
    "\n",
    "```\n",
    "type(distancia_a_alfa_centauri)\n",
    "```"
   ]
  },
  {
   "cell_type": "code",
   "execution_count": 1,
   "metadata": {},
   "outputs": [
    {
     "data": {
      "text/plain": [
       "float"
      ]
     },
     "execution_count": 1,
     "metadata": {},
     "output_type": "execute_result"
    }
   ],
   "source": [
    "# Declaramos la variable\n",
    "distancia_a_alfa_centauri = 4.367\n",
    "\n",
    "# Descubrimos su tipo de dato\n",
    "type(distancia_a_alfa_centauri)"
   ]
  },
  {
   "cell_type": "markdown",
   "metadata": {},
   "source": [
    "### Operadores\n",
    "\n",
    "Los operadores le permiten realizar cálculos sobre variables y sus valores. La idea general es que tienes un lado izquierdo y un lado derecho y un operador en el medio:\n",
    "\n",
    "```\n",
    "    <left side> <operator> <right side>\n",
    "```\n",
    "\n",
    "Así es como se vería un ejemplo real del código de marcador de posición anterior:\n",
    "\n",
    "```\n",
    "    left_side = 10\n",
    "    right_side = 5\n",
    "    left_side / right_side # 2\n",
    "```\n",
    "\n",
    "En este ejemplo se utiliza una barra diagonal (/) para dividir el valor por el valor. ```left_side``` ```right_side```\n",
    "\n",
    "Hay muchos más operadores. \n",
    "\n",
    "Python utiliza dos tipos de operadores: aritmética y asignación.\n",
    "\n",
    "### Operadores aritméticos\n",
    "\n",
    "Con los operadores aritméticos, se realizan cálculos como suma, resta, división y multiplicación. Aquí hay un subconjunto de operadores aritméticos que puede usar:\n",
    "\n",
    "| Tipo | Descripción | Ejemplo \n",
    "-------- | -------- | --------\n",
    "| + | Operador de adición que suma dos valores juntos | ``` 1 + 1 ```.\n",
    "| - | Operador de resta que quita el valor del lado derecho del lado izquierdo | ``` 1 - 2 ```.\n",
    "| / | Operador de división que divide el lado izquierdo tantas veces como especifique el lado derecho | ``` 10 / 2 ```.\n",
    "| * | Operador de multiplicación | ``` 2 * 2 ```.\n",
    "\n",
    "### Operadores de asignación\n",
    "\n",
    "Los operadores de asignación se utilizan para asignar valores a una variable a lo largo del ciclo de vida de la variable. Estos son algunos operadores de asignación que es probable que encuentres a medida que aprendes a crear programas:\n",
    "\n",
    "Operador | Ejemplo\n",
    "-------- | --------\n",
    "= | ```x = 2``` <br> x ahora contiene 2.\n",
    "+= | ```x += 2``` <br> x incrementado en 2. Si antes contenía 2, ahora tiene un valor de 4.\n",
    "-= | ```x -= 2``` <br> x decrementado por 2. Si antes contenía 2, ahora tiene un valor de 0.\n",
    "/= | ```x /= 2``` <br> x dividido por 2. Si antes contenía 2, ahora tiene un valor de 1.\n",
    "*= | ```x *= 2``` <br> x multiplicado por 2. Si antes contenía 2, ahora tiene un valor de 4.\n",
    "\n",
    "### Fechas\n",
    "Cuando estás creando programas, es probable que interactúes con las fechas. Una fecha en un programa generalmente significa tanto la fecha del calendario como la hora.\n",
    "\n",
    "Una fecha se puede utilizar en varias aplicaciones, como estos ejemplos:\n",
    "\n",
    "* **Archivo de copia de seguridad.** Usar una fecha como parte del nombre de un archivo de copia de seguridad es una buena manera de indicar cuándo se realizó una copia de seguridad y cuándo debe realizarse nuevamente.  \n",
    "* **Condición.** Es posible que desee llevar una lógica específica cuando hay una fecha determinada.  \n",
    "* **Métrica.** Las fechas se utilizan para comprobar el rendimiento del código para, por ejemplo, medir el tiempo que se tarda en ejecutar una función.  \n",
    "\n",
    "Para trabajar con una fecha, debe importar el módulo: ```date```\n",
    "\n",
    "```\n",
    "from datetime import date\n",
    "```\n",
    "\n",
    "A continuación, puede invocar las funciones con las que desea trabajar. Para obtener la fecha de hoy, puede llamar a la función: ```today()```\n",
    "\n",
    "```\n",
    "date.today()\n",
    "```\n",
    "\n",
    "Para mostrar la fecha en la consola, puede usar la función. La función toma muchos tipos de datos como entrada. Así es como puedes mostrar la fecha de hoy: ```print()```\n",
    "\n",
    "```\n",
    "print(date.today())\n",
    "```"
   ]
  },
  {
   "cell_type": "code",
   "execution_count": 1,
   "metadata": {},
   "outputs": [
    {
     "name": "stdout",
     "output_type": "stream",
     "text": [
      "2022-01-31\n"
     ]
    }
   ],
   "source": [
    "# Importamos la biblioteca \n",
    "from datetime import date\n",
    "\n",
    "# Obtenemos la fecha de hoy\n",
    "date.today()\n",
    "\n",
    "# Mostramos la fecha en la consola\n",
    "print(date.today())"
   ]
  },
  {
   "cell_type": "markdown",
   "metadata": {},
   "source": [
    "### Conversión de tipos de datos\n",
    "\n",
    "Quieres usar una fecha con un mensaje. Ese algo suele ser un problema. Si, por ejemplo, desea mostrar la fecha de hoy en la consola, es posible que tenga un problema:\n",
    "\n",
    "```\n",
    "print(\"Today's date is: \" + date.today())\n",
    "```\n",
    "\n",
    "Lo que obtienes es un error:\n",
    "\n",
    "```\n",
    "---------------------------------------------------------------------------\n",
    "TypeError                                 Traceback (most recent call last)\n",
    "<ipython-input-2-e74c8796a0b9> in <module>\n",
    "----> 1 print(\"Today's date is: \" + date.today())\n",
    "\n",
    "TypeError: can only concatenate str (not \"datetime.date\") to str\n",
    "```\n",
    "La última fila del mensaje le indica cuál es el problema. Está intentando usar el operador ``` + ``` y combinar dos tipos de datos diferentes, una cadena y una fecha.\n",
    "\n",
    "Para que este código funcione, debe convertir la fecha en una cadena. Para lograr tal conversión mediante el uso de la función de utilidad: ```str()```\n",
    "\n",
    "```\n",
    "print(\"Today's date is: \" + str(date.today()))\n",
    "```"
   ]
  },
  {
   "cell_type": "code",
   "execution_count": null,
   "metadata": {},
   "outputs": [],
   "source": [
    "# Tu turno ejecuta el siguiente comando: print(\"Today's date is: \" + str(date.today()))"
   ]
  },
  {
   "cell_type": "markdown",
   "metadata": {},
   "source": [
    "## Recopilar información\n",
    "\n",
    "Hasta ahora, has aprendido varias construcciones del lenguaje de programación Python. También has escrito un par de programas. Sin embargo, los programas operan con datos, y esos datos provienen de alguna parte. En esta unidad, analizará más de cerca cómo puede recopilar la entrada tanto de la línea de comandos como de la entrada del usuario.\n",
    "\n",
    "### Entrada del usuario\n",
    "Puede codificarlo para que el programa le diga al usuario que ingrese información. Guarde los datos introducidos en el programa y, a continuación, actúe en consecuencia.\n",
    "\n",
    "Para capturar información del usuario, utilice la función. Aquí hay un ejemplo: ```input()```\n",
    "\n",
    "```\n",
    "print(\"Bienvenido al programa de bienvenida\")\n",
    "name = input(\"Introduzca su nombre \")\n",
    "print(\"Saludos: \" + name)\n",
    "```"
   ]
  },
  {
   "cell_type": "code",
   "execution_count": 1,
   "metadata": {},
   "outputs": [
    {
     "name": "stdout",
     "output_type": "stream",
     "text": [
      "Bienvenido al programa de bienvenida\n",
      "Saludos: Jefferson\n"
     ]
    }
   ],
   "source": [
    "# Escribe tu código aquí\n",
    "print(\"Bienvenido al programa de bienvenida\")\n",
    "name = input(\"Introduzca su nombre\")\n",
    "print(\"Saludos: \" + name)"
   ]
  },
  {
   "cell_type": "markdown",
   "metadata": {},
   "source": [
    "La ejecución del programa mediante el uso da el siguiente resultado ```python input.py (Si lo haces por consola)```:\n",
    "\n",
    "```\n",
    "Bienvenido al programa de bienvenida\n",
    "Enter your name Jefferson\n",
    "Saludos: Jefferson\n",
    "```\n",
    "\n",
    "#### Trabajar con números\n",
    "\n",
    "La función almacena un resultado como una cadena. Por lo tanto, es posible que el siguiente código no haga lo que desea que haga: ```input()```\n",
    "\n",
    "```\n",
    "print(\"Calculadora\")\n",
    "first_number = input(\"Primer número: \")\n",
    "second_number = input(\"Segundo número: \")\n",
    "print(first_number + second_number)\n",
    "```"
   ]
  },
  {
   "cell_type": "code",
   "execution_count": 2,
   "metadata": {},
   "outputs": [],
   "source": [
    "# Escribe tu código aquí"
   ]
  },
  {
   "cell_type": "markdown",
   "metadata": {},
   "source": [
    "La ejecución de este programa mediante el uso da el siguiente resultado: ```python calc.py (Si lo haces por consola)```\n",
    "\n",
    "```\n",
    "Calculadora\n",
    "Primer número: 3\n",
    "Segundo número: 4\n",
    "34\n",
    "```\n",
    "\n",
    "Probablemente quieres que este programa te responda con 7 en lugar de 34. Entonces, ¿qué salió mal?\n",
    "\n",
    "La explicación es que el programa toma ambos números como si fuesen 'cadenas de texto'. Para que el cálculo funcione correctamente, debe cambiar esas cadenas a números mediante la función ```int()```. Modificando la última línea del programa a utilizar, puede resolver el problema:\n",
    "\n",
    "``` print(int(first_number) + int(second_number)) ```"
   ]
  },
  {
   "cell_type": "code",
   "execution_count": 3,
   "metadata": {},
   "outputs": [],
   "source": [
    "# Escribe tu código aquí"
   ]
  },
  {
   "cell_type": "markdown",
   "metadata": {},
   "source": [
    "La repetición del programa ahora se produce 7 como respuesta."
   ]
  },
  {
   "cell_type": "markdown",
   "metadata": {},
   "source": [
    "Curso Propedútico de Python para Launch X - Innovacción Virtual.\n",
    "\n",
    "Material desarrollado con base en los contenidos de Analisis de Datos\n",
    "\n",
    "Redes:\n",
    "* GitHub: [JefersonQui](https://github.com/jefersonqui-dev)\n"
   ]
  }
 ],
 "metadata": {
  "kernelspec": {
   "display_name": "Python 3",
   "language": "python",
   "name": "python3"
  },
  "language_info": {
   "codemirror_mode": {
    "name": "ipython",
    "version": 3
   },
   "file_extension": ".py",
   "mimetype": "text/x-python",
   "name": "python",
   "nbconvert_exporter": "python",
   "pygments_lexer": "ipython3",
   "version": "3.11.5"
  },
  "orig_nbformat": 4
 },
 "nbformat": 4,
 "nbformat_minor": 2
}
